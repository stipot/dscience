{
 "cells": [
  {
   "attachments": {},
   "cell_type": "markdown",
   "metadata": {},
   "source": [
    "# Метод Apriori ассоциативного анализа\n",
    "\n",
    "Написанного Ю Мочизуки (Yu Mochizuki)\n",
    "Устанавливаем\n",
    "\n",
    "```\n",
    "pip install apyori\n",
    "copy apyori.py into your project.\n",
    "python setup.py install\n",
    "```\n"
   ]
  },
  {
   "cell_type": "code",
   "execution_count": null,
   "metadata": {},
   "outputs": [],
   "source": [
    "import pandas as pd\n",
    "# Данные https://www.kaggle.com/datasets/devchauhan1/market-basket-optimisationcsv\n",
    "dataset = pd.read_csv('./data/Market_Basket_Optimisation.csv', header = None)\n",
    "dataset.head()"
   ]
  },
  {
   "attachments": {},
   "cell_type": "markdown",
   "metadata": {},
   "source": [
    "### Очистка данных\n"
   ]
  },
  {
   "cell_type": "code",
   "execution_count": null,
   "metadata": {},
   "outputs": [],
   "source": [
    "dataset.fillna(method = 'ffill',axis = 1, inplace = True)\n",
    "dataset.head()"
   ]
  },
  {
   "cell_type": "code",
   "execution_count": null,
   "metadata": {},
   "outputs": [],
   "source": [
    "from apyori import apriori\n",
    "\n",
    "#создадим из них матрицу\n",
    "transactions = []\n",
    "for i in range(0, 7501): \n",
    "    transactions.append([str(dataset.values[i,j]) for j in range(0, 20)])\n",
    "\"\"\" \n",
    "и обучимся правилам. Обратите внимание, что пороговые значения мы выбираем сами в зависимости от того,\n",
    "насколько \"сильные\" правила мы хотим получить\n",
    "min_support -- минимальный support для правил (dtype = float).\n",
    "min_confidence -- минимальное значение confidence для правил (dtype = float)\n",
    "min_lift -- минимальный lift (dtype = float)\n",
    "max_length -- максимальная длина itemset (вспоминаем про k-itemset)  (dtype = integer) \n",
    "\"\"\"\n",
    "result = list(apriori(transactions, min_support = 0.003, min_confidence = 0.2, min_lift = 4, min_length = 2))\n",
    "apriori"
   ]
  },
  {
   "cell_type": "code",
   "execution_count": null,
   "metadata": {},
   "outputs": [],
   "source": [
    "import shutil, os \n",
    "from io import StringIO\n",
    "from apyori import dump_as_json\n",
    "from IPython.display import display, HTML\n",
    "import json\n",
    "\n",
    "output = []\n",
    "for RelationRecord in result:\n",
    "    o = StringIO()\n",
    "    dump_as_json(RelationRecord, o)\n",
    "    output.append(json.loads(o.getvalue()))\n",
    "df = pd.DataFrame(output)\n",
    "df.sort_values(by=[\"support\"], ascending=False)"
   ]
  },
  {
   "attachments": {},
   "cell_type": "markdown",
   "metadata": {},
   "source": [
    "### Результат\n",
    "\n",
    "Видим сочетания:\n",
    "\n",
    "- оливковое масло, макароны из цельнозерновой муки [olive oil, whole wheat pasta],\n",
    "- говяжий фарш, зелень и перец, спагетти [ground beef, herb & pepper, spaghetti],\n",
    "- эскалоп, макароны [escalope, pasta]\n"
   ]
  }
 ],
 "metadata": {
  "kernelspec": {
   "display_name": "Python 3",
   "language": "python",
   "name": "python3"
  },
  "language_info": {
   "codemirror_mode": {
    "name": "ipython",
    "version": 3
   },
   "file_extension": ".py",
   "mimetype": "text/x-python",
   "name": "python",
   "nbconvert_exporter": "python",
   "pygments_lexer": "ipython3",
   "version": "3.10.10"
  },
  "orig_nbformat": 4,
  "vscode": {
   "interpreter": {
    "hash": "81794d4967e6c3204c66dcd87b604927b115b27c00565d3d43f05ba2f3a2cb0d"
   }
  }
 },
 "nbformat": 4,
 "nbformat_minor": 2
}
